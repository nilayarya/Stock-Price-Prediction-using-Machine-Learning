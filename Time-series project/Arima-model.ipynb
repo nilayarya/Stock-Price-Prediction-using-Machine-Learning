{
 "cells": [
  {
   "cell_type": "code",
   "execution_count": 1,
   "metadata": {},
   "outputs": [],
   "source": [
    "import yfinance as yf\n",
    "import pandas as pd\n",
    "import numpy as np\n",
    "import warnings\n",
    "from sklearn.metrics import mean_squared_error\n",
    "warnings.filterwarnings('ignore')"
   ]
  },
  {
   "cell_type": "code",
   "execution_count": 2,
   "metadata": {},
   "outputs": [
    {
     "data": {
      "text/html": [
       "<div>\n",
       "<style scoped>\n",
       "    .dataframe tbody tr th:only-of-type {\n",
       "        vertical-align: middle;\n",
       "    }\n",
       "\n",
       "    .dataframe tbody tr th {\n",
       "        vertical-align: top;\n",
       "    }\n",
       "\n",
       "    .dataframe thead th {\n",
       "        text-align: right;\n",
       "    }\n",
       "</style>\n",
       "<table border=\"1\" class=\"dataframe\">\n",
       "  <thead>\n",
       "    <tr style=\"text-align: right;\">\n",
       "      <th></th>\n",
       "      <th>myCompany_pred</th>\n",
       "      <th>competitor1_lag_returns</th>\n",
       "      <th>competitor2_lag_returns</th>\n",
       "      <th>competitor3_lag_returns</th>\n",
       "      <th>NIFTY_lag_returns</th>\n",
       "      <th>myCompany_lr_1</th>\n",
       "      <th>myCompany_lr_2</th>\n",
       "      <th>myCompany_lr_5</th>\n",
       "      <th>myCompany_lr_10</th>\n",
       "    </tr>\n",
       "  </thead>\n",
       "  <tbody>\n",
       "  </tbody>\n",
       "</table>\n",
       "</div>"
      ],
      "text/plain": [
       "Empty DataFrame\n",
       "Columns: [myCompany_pred, competitor1_lag_returns, competitor2_lag_returns, competitor3_lag_returns, NIFTY_lag_returns, myCompany_lr_1, myCompany_lr_2, myCompany_lr_5, myCompany_lr_10]\n",
       "Index: []"
      ]
     },
     "execution_count": 2,
     "metadata": {},
     "output_type": "execute_result"
    }
   ],
   "source": [
    "hcolumns = ['myCompany_pred','competitor1_lag_returns','competitor2_lag_returns','competitor3_lag_returns','NIFTY_lag_returns','myCompany_lr_1','myCompany_lr_2','myCompany_lr_5','myCompany_lr_10']\n",
    "df = pd.DataFrame(columns = hcolumns)\n",
    "df"
   ]
  },
  {
   "cell_type": "code",
   "execution_count": 3,
   "metadata": {},
   "outputs": [
    {
     "name": "stdout",
     "output_type": "stream",
     "text": [
      "[*********************100%***********************]  1 of 1 completed\n",
      "[*********************100%***********************]  1 of 1 completed\n",
      "[*********************100%***********************]  1 of 1 completed\n",
      "[*********************100%***********************]  1 of 1 completed\n",
      "[*********************100%***********************]  1 of 1 completed\n"
     ]
    }
   ],
   "source": [
    "myCompany= yf.download('ASHOKLEY.NS',start='2014-01-01')\n",
    "myCompany=myCompany['Close']\n",
    "\n",
    "comp1= yf.download('TATAMOTORS.NS',start='2014-01-01')\n",
    "comp1=comp1['Close']\n",
    "\n",
    "comp2= yf.download('MARUTI.NS',start='2014-01-01')\n",
    "comp2=comp2['Close']\n",
    "\n",
    "comp3= yf.download('M&M.NS',start='2014-01-01')\n",
    "comp3=comp3['Close']\n",
    "\n",
    "nifty= yf.download('^NSEI',start='2014-01-01')\n",
    "nifty=nifty['Close']"
   ]
  },
  {
   "cell_type": "code",
   "execution_count": 4,
   "metadata": {},
   "outputs": [],
   "source": [
    "df['myCompany_pred']=myCompany\n",
    "df['myCompany_pred'] = np.log(df['myCompany_pred']).diff()#log returns\n",
    "\n",
    "df['competitor1_lag_returns']=comp1.shift()\n",
    "df['competitor1_lag_returns'] = np.log(df['competitor1_lag_returns']).diff()\n",
    "\n",
    "df['competitor2_lag_returns']=comp2.shift()\n",
    "df['competitor2_lag_returns'] = np.log(df['competitor2_lag_returns']).diff()\n",
    "\n",
    "df['competitor3_lag_returns']=comp3.shift()\n",
    "df['competitor3_lag_returns'] = np.log(df['competitor3_lag_returns']).diff()\n",
    "\n",
    "df['NIFTY_lag_returns']=nifty.shift()\n",
    "df['NIFTY_lag_returns'] = np.log(df['NIFTY_lag_returns']).diff()"
   ]
  },
  {
   "cell_type": "code",
   "execution_count": 5,
   "metadata": {},
   "outputs": [],
   "source": [
    "df['myCompany_lr_1']=df['myCompany_pred'].shift(1).dropna()\n",
    "df['myCompany_lr_2']=df['myCompany_pred'].shift(2).dropna()\n",
    "df['myCompany_lr_5']=df['myCompany_pred'].shift(5).dropna()\n",
    "df['myCompany_lr_10']=df['myCompany_pred'].shift(10).dropna()\n",
    "df=df.dropna()"
   ]
  },
  {
   "cell_type": "code",
   "execution_count": 6,
   "metadata": {},
   "outputs": [],
   "source": [
    "X=df.copy()\n",
    "X=X.drop(['myCompany_pred'], axis = 1)\n",
    "Y = df['myCompany_pred']"
   ]
  },
  {
   "cell_type": "code",
   "execution_count": 7,
   "metadata": {},
   "outputs": [],
   "source": [
    "validation_size = 0.2\n",
    "train_size = int(len(X) * (1-validation_size))\n",
    "X_train, X_test = X[0:train_size], X[train_size:len(X)]\n",
    "Y_train, Y_test = Y[0:train_size], Y[train_size:len(X)]"
   ]
  },
  {
   "cell_type": "code",
   "execution_count": 8,
   "metadata": {},
   "outputs": [],
   "source": [
    "X_train_ARIMA=X_train.loc[:, ['competitor1_lag_returns','competitor2_lag_returns','competitor3_lag_returns','NIFTY_lag_returns']]\n",
    "X_test_ARIMA=X_test.loc[:, ['competitor1_lag_returns','competitor2_lag_returns','competitor3_lag_returns','NIFTY_lag_returns']]"
   ]
  },
  {
   "cell_type": "code",
   "execution_count": 9,
   "metadata": {},
   "outputs": [],
   "source": [
    "tr_len = len(X_train_ARIMA)\n",
    "te_len = len(X_test_ARIMA)\n",
    "to_len = len (X)"
   ]
  },
  {
   "cell_type": "code",
   "execution_count": 10,
   "metadata": {},
   "outputs": [],
   "source": [
    "from statsmodels.tsa.arima_model import ARIMA"
   ]
  },
  {
   "cell_type": "code",
   "execution_count": 11,
   "metadata": {},
   "outputs": [
    {
     "name": "stderr",
     "output_type": "stream",
     "text": [
      "C:\\Users\\nilay\\anaconda3\\lib\\site-packages\\statsmodels\\tsa\\base\\tsa_model.py:581: ValueWarning: A date index has been provided, but it has no associated frequency information and so will be ignored when e.g. forecasting.\n",
      "  warnings.warn('A date index has been provided, but it has no'\n"
     ]
    }
   ],
   "source": [
    "modelARIMA_tuned=ARIMA(endog=Y_train,exog=X_train_ARIMA,order=[2,0,1])\n",
    "model_fit_tuned = modelARIMA_tuned.fit()"
   ]
  },
  {
   "cell_type": "code",
   "execution_count": 12,
   "metadata": {},
   "outputs": [
    {
     "name": "stdout",
     "output_type": "stream",
     "text": [
      "0.0008996891858564458\n"
     ]
    },
    {
     "name": "stderr",
     "output_type": "stream",
     "text": [
      "C:\\Users\\nilay\\anaconda3\\lib\\site-packages\\statsmodels\\tsa\\base\\tsa_model.py:376: ValueWarning: No supported index is available. Prediction results will be given with an integer index beginning at `start`.\n",
      "  warnings.warn('No supported index is available.'\n"
     ]
    }
   ],
   "source": [
    "predicted_tuned = model_fit_tuned.predict(start = tr_len -1 ,end = to_len -1, exog = X_test_ARIMA)[1:]\n",
    "print(mean_squared_error(Y_test,predicted_tuned))"
   ]
  },
  {
   "cell_type": "code",
   "execution_count": 13,
   "metadata": {},
   "outputs": [
    {
     "data": {
      "text/plain": [
       "1505   -0.015911\n",
       "1506    0.009535\n",
       "1507   -0.010520\n",
       "1508   -0.003963\n",
       "1509    0.030591\n",
       "          ...   \n",
       "1877    0.000705\n",
       "1878    0.003503\n",
       "1879    0.002639\n",
       "1880   -0.002471\n",
       "1881    0.007740\n",
       "Length: 377, dtype: float64"
      ]
     },
     "execution_count": 13,
     "metadata": {},
     "output_type": "execute_result"
    }
   ],
   "source": [
    "predicted_tuned"
   ]
  },
  {
   "cell_type": "code",
   "execution_count": 14,
   "metadata": {},
   "outputs": [],
   "source": [
    "pred=np.array(predicted_tuned)"
   ]
  },
  {
   "cell_type": "code",
   "execution_count": 15,
   "metadata": {},
   "outputs": [
    {
     "data": {
      "text/html": [
       "<div>\n",
       "<style scoped>\n",
       "    .dataframe tbody tr th:only-of-type {\n",
       "        vertical-align: middle;\n",
       "    }\n",
       "\n",
       "    .dataframe tbody tr th {\n",
       "        vertical-align: top;\n",
       "    }\n",
       "\n",
       "    .dataframe thead th {\n",
       "        text-align: right;\n",
       "    }\n",
       "</style>\n",
       "<table border=\"1\" class=\"dataframe\">\n",
       "  <thead>\n",
       "    <tr style=\"text-align: right;\">\n",
       "      <th></th>\n",
       "      <th>Actual_returns</th>\n",
       "      <th>Predicted_returns</th>\n",
       "    </tr>\n",
       "    <tr>\n",
       "      <th>Date</th>\n",
       "      <th></th>\n",
       "      <th></th>\n",
       "    </tr>\n",
       "  </thead>\n",
       "  <tbody>\n",
       "    <tr>\n",
       "      <th>2020-03-31</th>\n",
       "      <td>0.016394</td>\n",
       "      <td>-0.015911</td>\n",
       "    </tr>\n",
       "    <tr>\n",
       "      <th>2020-04-01</th>\n",
       "      <td>-0.046354</td>\n",
       "      <td>0.009535</td>\n",
       "    </tr>\n",
       "    <tr>\n",
       "      <th>2020-04-03</th>\n",
       "      <td>-0.074482</td>\n",
       "      <td>-0.010520</td>\n",
       "    </tr>\n",
       "    <tr>\n",
       "      <th>2020-04-07</th>\n",
       "      <td>0.043597</td>\n",
       "      <td>-0.003963</td>\n",
       "    </tr>\n",
       "    <tr>\n",
       "      <th>2020-04-08</th>\n",
       "      <td>0.095652</td>\n",
       "      <td>0.030591</td>\n",
       "    </tr>\n",
       "    <tr>\n",
       "      <th>...</th>\n",
       "      <td>...</td>\n",
       "      <td>...</td>\n",
       "    </tr>\n",
       "    <tr>\n",
       "      <th>2021-10-04</th>\n",
       "      <td>-0.006907</td>\n",
       "      <td>0.000705</td>\n",
       "    </tr>\n",
       "    <tr>\n",
       "      <th>2021-10-05</th>\n",
       "      <td>0.018314</td>\n",
       "      <td>0.003503</td>\n",
       "    </tr>\n",
       "    <tr>\n",
       "      <th>2021-10-06</th>\n",
       "      <td>-0.018314</td>\n",
       "      <td>0.002639</td>\n",
       "    </tr>\n",
       "    <tr>\n",
       "      <th>2021-10-07</th>\n",
       "      <td>0.045171</td>\n",
       "      <td>-0.002471</td>\n",
       "    </tr>\n",
       "    <tr>\n",
       "      <th>2021-10-08</th>\n",
       "      <td>0.004040</td>\n",
       "      <td>0.007740</td>\n",
       "    </tr>\n",
       "  </tbody>\n",
       "</table>\n",
       "<p>377 rows × 2 columns</p>\n",
       "</div>"
      ],
      "text/plain": [
       "            Actual_returns  Predicted_returns\n",
       "Date                                         \n",
       "2020-03-31        0.016394          -0.015911\n",
       "2020-04-01       -0.046354           0.009535\n",
       "2020-04-03       -0.074482          -0.010520\n",
       "2020-04-07        0.043597          -0.003963\n",
       "2020-04-08        0.095652           0.030591\n",
       "...                    ...                ...\n",
       "2021-10-04       -0.006907           0.000705\n",
       "2021-10-05        0.018314           0.003503\n",
       "2021-10-06       -0.018314           0.002639\n",
       "2021-10-07        0.045171          -0.002471\n",
       "2021-10-08        0.004040           0.007740\n",
       "\n",
       "[377 rows x 2 columns]"
      ]
     },
     "execution_count": 15,
     "metadata": {},
     "output_type": "execute_result"
    }
   ],
   "source": [
    "compare=pd.DataFrame(columns=['Actual_returns','Predicted_returns'])\n",
    "actual=Y_test\n",
    "compare['Actual_returns']=actual\n",
    "compare['Predicted_returns']=pred\n",
    "compare"
   ]
  },
  {
   "cell_type": "code",
   "execution_count": 16,
   "metadata": {},
   "outputs": [
    {
     "data": {
      "text/html": [
       "<div>\n",
       "<style scoped>\n",
       "    .dataframe tbody tr th:only-of-type {\n",
       "        vertical-align: middle;\n",
       "    }\n",
       "\n",
       "    .dataframe tbody tr th {\n",
       "        vertical-align: top;\n",
       "    }\n",
       "\n",
       "    .dataframe thead th {\n",
       "        text-align: right;\n",
       "    }\n",
       "</style>\n",
       "<table border=\"1\" class=\"dataframe\">\n",
       "  <thead>\n",
       "    <tr style=\"text-align: right;\">\n",
       "      <th></th>\n",
       "      <th>Actual_returns</th>\n",
       "      <th>Predicted_returns</th>\n",
       "      <th>trade_direction</th>\n",
       "      <th>trading_returns</th>\n",
       "    </tr>\n",
       "    <tr>\n",
       "      <th>Date</th>\n",
       "      <th></th>\n",
       "      <th></th>\n",
       "      <th></th>\n",
       "      <th></th>\n",
       "    </tr>\n",
       "  </thead>\n",
       "  <tbody>\n",
       "    <tr>\n",
       "      <th>2020-03-31</th>\n",
       "      <td>0.016394</td>\n",
       "      <td>-0.015911</td>\n",
       "      <td>-1</td>\n",
       "      <td>-0.016394</td>\n",
       "    </tr>\n",
       "    <tr>\n",
       "      <th>2020-04-01</th>\n",
       "      <td>-0.046354</td>\n",
       "      <td>0.009535</td>\n",
       "      <td>1</td>\n",
       "      <td>-0.046354</td>\n",
       "    </tr>\n",
       "    <tr>\n",
       "      <th>2020-04-03</th>\n",
       "      <td>-0.074482</td>\n",
       "      <td>-0.010520</td>\n",
       "      <td>-1</td>\n",
       "      <td>0.074482</td>\n",
       "    </tr>\n",
       "    <tr>\n",
       "      <th>2020-04-07</th>\n",
       "      <td>0.043597</td>\n",
       "      <td>-0.003963</td>\n",
       "      <td>-1</td>\n",
       "      <td>-0.043597</td>\n",
       "    </tr>\n",
       "    <tr>\n",
       "      <th>2020-04-08</th>\n",
       "      <td>0.095652</td>\n",
       "      <td>0.030591</td>\n",
       "      <td>1</td>\n",
       "      <td>0.095652</td>\n",
       "    </tr>\n",
       "    <tr>\n",
       "      <th>...</th>\n",
       "      <td>...</td>\n",
       "      <td>...</td>\n",
       "      <td>...</td>\n",
       "      <td>...</td>\n",
       "    </tr>\n",
       "    <tr>\n",
       "      <th>2021-10-04</th>\n",
       "      <td>-0.006907</td>\n",
       "      <td>0.000705</td>\n",
       "      <td>1</td>\n",
       "      <td>-0.006907</td>\n",
       "    </tr>\n",
       "    <tr>\n",
       "      <th>2021-10-05</th>\n",
       "      <td>0.018314</td>\n",
       "      <td>0.003503</td>\n",
       "      <td>1</td>\n",
       "      <td>0.018314</td>\n",
       "    </tr>\n",
       "    <tr>\n",
       "      <th>2021-10-06</th>\n",
       "      <td>-0.018314</td>\n",
       "      <td>0.002639</td>\n",
       "      <td>1</td>\n",
       "      <td>-0.018314</td>\n",
       "    </tr>\n",
       "    <tr>\n",
       "      <th>2021-10-07</th>\n",
       "      <td>0.045171</td>\n",
       "      <td>-0.002471</td>\n",
       "      <td>-1</td>\n",
       "      <td>-0.045171</td>\n",
       "    </tr>\n",
       "    <tr>\n",
       "      <th>2021-10-08</th>\n",
       "      <td>0.004040</td>\n",
       "      <td>0.007740</td>\n",
       "      <td>1</td>\n",
       "      <td>0.004040</td>\n",
       "    </tr>\n",
       "  </tbody>\n",
       "</table>\n",
       "<p>377 rows × 4 columns</p>\n",
       "</div>"
      ],
      "text/plain": [
       "            Actual_returns  Predicted_returns  trade_direction  \\\n",
       "Date                                                             \n",
       "2020-03-31        0.016394          -0.015911               -1   \n",
       "2020-04-01       -0.046354           0.009535                1   \n",
       "2020-04-03       -0.074482          -0.010520               -1   \n",
       "2020-04-07        0.043597          -0.003963               -1   \n",
       "2020-04-08        0.095652           0.030591                1   \n",
       "...                    ...                ...              ...   \n",
       "2021-10-04       -0.006907           0.000705                1   \n",
       "2021-10-05        0.018314           0.003503                1   \n",
       "2021-10-06       -0.018314           0.002639                1   \n",
       "2021-10-07        0.045171          -0.002471               -1   \n",
       "2021-10-08        0.004040           0.007740                1   \n",
       "\n",
       "            trading_returns  \n",
       "Date                         \n",
       "2020-03-31        -0.016394  \n",
       "2020-04-01        -0.046354  \n",
       "2020-04-03         0.074482  \n",
       "2020-04-07        -0.043597  \n",
       "2020-04-08         0.095652  \n",
       "...                     ...  \n",
       "2021-10-04        -0.006907  \n",
       "2021-10-05         0.018314  \n",
       "2021-10-06        -0.018314  \n",
       "2021-10-07        -0.045171  \n",
       "2021-10-08         0.004040  \n",
       "\n",
       "[377 rows x 4 columns]"
      ]
     },
     "execution_count": 16,
     "metadata": {},
     "output_type": "execute_result"
    }
   ],
   "source": [
    "compare['trade_direction']=[1 if i>0 else -1 for i in compare['Predicted_returns']]\n",
    "compare['trading_returns']=compare['trade_direction']*compare['Actual_returns']\n",
    "compare"
   ]
  },
  {
   "cell_type": "code",
   "execution_count": 17,
   "metadata": {},
   "outputs": [
    {
     "data": {
      "text/plain": [
       "[<matplotlib.lines.Line2D at 0x212221dffd0>]"
      ]
     },
     "execution_count": 17,
     "metadata": {},
     "output_type": "execute_result"
    },
    {
     "data": {
      "image/png": "[encoded data removed]",
      "text/plain": [
       "<Figure size 432x288 with 1 Axes>"
      ]
     },
     "metadata": {
      "needs_background": "light"
     },
     "output_type": "display_data"
    }
   ],
   "source": [
    "import matplotlib.pyplot as plt\n",
    "plt.plot(compare['Actual_returns'].cumsum(), label='Buy/Hold')\n",
    "plt.plot(compare['trading_returns'].cumsum(), label='Strat')\n"
   ]
  },
  {
   "cell_type": "code",
   "execution_count": 18,
   "metadata": {},
   "outputs": [
    {
     "name": "stdout",
     "output_type": "stream",
     "text": [
      "108.33542516243853 %\n"
     ]
    }
   ],
   "source": [
    "actual_percentage=compare['Actual_returns'].cumsum()[-1]\n",
    "print(actual_percentage*100,\"%\")"
   ]
  },
  {
   "cell_type": "code",
   "execution_count": 19,
   "metadata": {},
   "outputs": [
    {
     "name": "stdout",
     "output_type": "stream",
     "text": [
      "135.67676436660082 %\n"
     ]
    }
   ],
   "source": [
    "trading_percentage=compare['trading_returns'].cumsum()[-1]\n",
    "print(trading_percentage*100,\"%\")"
   ]
  },
  {
   "cell_type": "markdown",
   "metadata": {},
   "source": [
    "Trading outperforms"
   ]
  },
  {
   "cell_type": "code",
   "execution_count": 20,
   "metadata": {},
   "outputs": [
    {
     "name": "stdout",
     "output_type": "stream",
     "text": [
      "[*********************100%***********************]  1 of 1 completed\n",
      "[*********************100%***********************]  1 of 1 completed\n",
      "[*********************100%***********************]  1 of 1 completed\n",
      "[*********************100%***********************]  1 of 1 completed\n"
     ]
    },
    {
     "data": {
      "text/html": [
       "<div>\n",
       "<style scoped>\n",
       "    .dataframe tbody tr th:only-of-type {\n",
       "        vertical-align: middle;\n",
       "    }\n",
       "\n",
       "    .dataframe tbody tr th {\n",
       "        vertical-align: top;\n",
       "    }\n",
       "\n",
       "    .dataframe thead th {\n",
       "        text-align: right;\n",
       "    }\n",
       "</style>\n",
       "<table border=\"1\" class=\"dataframe\">\n",
       "  <thead>\n",
       "    <tr style=\"text-align: right;\">\n",
       "      <th></th>\n",
       "      <th>competitor1_lag_returns</th>\n",
       "      <th>competitor2_lag_returns</th>\n",
       "      <th>competitor3_lag_returns</th>\n",
       "      <th>NIFTY_lag_returns</th>\n",
       "    </tr>\n",
       "    <tr>\n",
       "      <th>Date</th>\n",
       "      <th></th>\n",
       "      <th></th>\n",
       "      <th></th>\n",
       "      <th></th>\n",
       "    </tr>\n",
       "  </thead>\n",
       "  <tbody>\n",
       "    <tr>\n",
       "      <th>2021-10-08</th>\n",
       "      <td>0.019464</td>\n",
       "      <td>0.000734</td>\n",
       "      <td>0.003013</td>\n",
       "      <td>0.007691</td>\n",
       "    </tr>\n",
       "  </tbody>\n",
       "</table>\n",
       "</div>"
      ],
      "text/plain": [
       "            competitor1_lag_returns  competitor2_lag_returns  \\\n",
       "Date                                                           \n",
       "2021-10-08                 0.019464                 0.000734   \n",
       "\n",
       "            competitor3_lag_returns  NIFTY_lag_returns  \n",
       "Date                                                    \n",
       "2021-10-08                 0.003013           0.007691  "
      ]
     },
     "execution_count": 20,
     "metadata": {},
     "output_type": "execute_result"
    }
   ],
   "source": [
    "qtm1= yf.download('TATAMOTORS.NS',start='2014-01-01')\n",
    "qtm=qtm1['Close']\n",
    "qtm=qtm.tail(5)\n",
    "qmaruti1= yf.download('MARUTI.NS',start='2014-01-01')\n",
    "qmaruti=qmaruti1['Close']\n",
    "qmaruti=qmaruti.tail(5)\n",
    "qmahindra1= yf.download('M&M.NS',start='2014-01-01')\n",
    "qmahindra=qmahindra1['Close']\n",
    "qmahindra=qmahindra.tail(5)\n",
    "qnifty1= yf.download('^NSEI',start='2014-01-01')\n",
    "qnifty=qnifty1['Close']\n",
    "qnifty=qnifty.tail(5)\n",
    "qcolumns = ['competitor1_lag_returns','competitor2_lag_returns','competitor3_lag_returns','NIFTY_lag_returns']\n",
    "qf = pd.DataFrame(columns = qcolumns)\n",
    "\n",
    "qf['competitor1_lag_returns']=qtm\n",
    "qf['competitor1_lag_returns'] = np.log(qf['competitor1_lag_returns']).diff()\n",
    "\n",
    "qf['competitor3_lag_returns']=qmahindra\n",
    "qf['competitor3_lag_returns'] = np.log(qf['competitor3_lag_returns']).diff()\n",
    "\n",
    "qf['competitor2_lag_returns']=qmaruti\n",
    "qf['competitor2_lag_returns'] = np.log(qf['competitor2_lag_returns']).diff()\n",
    "\n",
    "qf['NIFTY_lag_returns']=qnifty\n",
    "qf['NIFTY_lag_returns'] = np.log(qf['NIFTY_lag_returns']).diff()\n",
    "qf=qf.tail(1)\n",
    "qf"
   ]
  },
  {
   "cell_type": "code",
   "execution_count": 21,
   "metadata": {},
   "outputs": [
    {
     "name": "stderr",
     "output_type": "stream",
     "text": [
      "C:\\Users\\nilay\\anaconda3\\lib\\site-packages\\statsmodels\\tsa\\base\\tsa_model.py:581: ValueWarning: A date index has been provided, but it has no associated frequency information and so will be ignored when e.g. forecasting.\n",
      "  warnings.warn('A date index has been provided, but it has no'\n"
     ]
    }
   ],
   "source": [
    "X_train_ARIMA=X.loc[:, ['competitor1_lag_returns','competitor2_lag_returns','competitor3_lag_returns','NIFTY_lag_returns']]\n",
    "modelARIMA_tuned=ARIMA(endog=Y,exog=X_train_ARIMA,order=[2,0,1])\n",
    "model_fit_tuned = modelARIMA_tuned.fit()"
   ]
  },
  {
   "cell_type": "code",
   "execution_count": 22,
   "metadata": {},
   "outputs": [
    {
     "name": "stderr",
     "output_type": "stream",
     "text": [
      "C:\\Users\\nilay\\anaconda3\\lib\\site-packages\\statsmodels\\tsa\\base\\tsa_model.py:376: ValueWarning: No supported index is available. Prediction results will be given with an integer index beginning at `start`.\n",
      "  warnings.warn('No supported index is available.'\n",
      "C:\\Users\\nilay\\anaconda3\\lib\\site-packages\\statsmodels\\tsa\\arima_model.py:827: SpecificationWarning: \n",
      "The number of observations in exog does not match the number of out-of-sample\n",
      "observations.  This might indicate that exog is not correctly aligned. exog\n",
      "should be aligned so that the exog[0] is used for the first out-of-sample\n",
      "forecast, and exog[-1] is used for the last out-of-sample forecast.\n",
      "exog is not used for in-sample observations which are the fitted values.\n",
      "\n",
      "To silence this warning, ensure the number of observation in exog (1885)\n",
      "matches the number of out-of-sample forecasts (1)'\n",
      "\n",
      "  warnings.warn(msg, SpecificationWarning)\n"
     ]
    }
   ],
   "source": [
    "X_train_ARIMA = X_train_ARIMA.append(qf, ignore_index = True)\n",
    "tmrw = model_fit_tuned.predict(start = 0 ,end = len(X_train_ARIMA)-1, exog = X_train_ARIMA)"
   ]
  },
  {
   "cell_type": "code",
   "execution_count": 23,
   "metadata": {},
   "outputs": [
    {
     "data": {
      "text/plain": [
       "0       0.004749\n",
       "1       0.000717\n",
       "2      -0.000805\n",
       "3       0.002895\n",
       "4       0.001024\n",
       "          ...   \n",
       "1878    0.003862\n",
       "1879    0.002455\n",
       "1880   -0.001360\n",
       "1881    0.003670\n",
       "1882    0.004935\n",
       "Length: 1883, dtype: float64"
      ]
     },
     "execution_count": 23,
     "metadata": {},
     "output_type": "execute_result"
    }
   ],
   "source": [
    "tmrw"
   ]
  },
  {
   "cell_type": "code",
   "execution_count": 24,
   "metadata": {},
   "outputs": [
    {
     "name": "stdout",
     "output_type": "stream",
     "text": [
      "Expected Returns tmrw:  0.4935003228636731 %\n",
      "BUY\n"
     ]
    }
   ],
   "source": [
    "tmrw=np.array(tmrw)\n",
    "print(\"Expected Returns tmrw: \",tmrw[-1]*100,\"%\")\n",
    "if(tmrw[-1]>0):\n",
    "    print(\"BUY\")\n",
    "else:\n",
    "    print(\"SELL\")"
   ]
  },
  {
   "cell_type": "code",
   "execution_count": null,
   "metadata": {},
   "outputs": [],
   "source": []
  }
 ],
 "metadata": {
  "kernelspec": {
   "display_name": "Python 3",
   "language": "python",
   "name": "python3"
  },
  "language_info": {
   "codemirror_mode": {
    "name": "ipython",
    "version": 3
   },
   "file_extension": ".py",
   "mimetype": "text/x-python",
   "name": "python",
   "nbconvert_exporter": "python",
   "pygments_lexer": "ipython3",
   "version": "3.8.5"
  }
 },
 "nbformat": 4,
 "nbformat_minor": 4
}
